{
 "cells": [
  {
   "cell_type": "code",
   "execution_count": 1,
   "metadata": {},
   "outputs": [],
   "source": [
    "public class PersonalInfo {\n",
    "    private int age;\n",
    "    private String name; // name and age are defined as private ... they cannot\n",
    "                        // be accessed directly, but rather only through Set and Get\n",
    "                        // methods!!!!  This is called \"encapsulation\".\n",
    "\n",
    "    // Create a constructor method (that will be called anytime an object\n",
    "    // is created.\n",
    "    //\n",
    "    public PersonalInfo(int initial_age, String initial_name) {\n",
    "        this.SetAge(initial_age);\n",
    "        this.SetName(initial_name); // the keyword 'this' means the current object\n",
    "    }\n",
    "\n",
    "    // Create a method to increment age by 1 year\n",
    "    // This is a public method, as it will be called\n",
    "    // by first creating an object of type PersonalInfoMethods\n",
    "    // and then calling the IncrementAge() method on that object.\n",
    "    //\n",
    "    public void IncrementAge() {\n",
    "        this.SetAge(this.GetAge()+1);\n",
    "    }\n",
    "\n",
    "    // Create set and get methods for the name and age\n",
    "    //\n",
    "    public void SetAge(int setage){\n",
    "        this.age = setage;\n",
    "    }\n",
    "\n",
    "    public int GetAge(){\n",
    "        return age;\n",
    "    }\n",
    "\n",
    "    public void SetName(String setname){\n",
    "        this.name = setname;\n",
    "    }\n",
    "\n",
    "    public String GetName(){\n",
    "        return name;\n",
    "    }\n",
    "}"
   ]
  },
  {
   "cell_type": "code",
   "execution_count": 2,
   "metadata": {},
   "outputs": [],
   "source": [
    "public class IncrementAge {\n",
    "\n",
    "    public static void main(String [] args) {\n",
    "\n",
    "        // Create an object of type PersonalInfo called Olivia\n",
    "        // This object will have two member variables - age and name.\n",
    "        //\n",
    "        PersonalInfo Olivia = new PersonalInfo(25,\"Olivia\");\n",
    "\n",
    "        System.out.println(\"Name, age = \" + Olivia.GetName() + \", \" + Olivia.GetAge());\n",
    "        \n",
    "        // Increment the age\n",
    "        Olivia.IncrementAge();\n",
    "        \n",
    "        System.out.println(\"Name, age = \" + Olivia.GetName() + \", \" + Olivia.GetAge());\n",
    "        \n",
    "        // Set a new name and age\n",
    "        Olivia.SetName(\"Dad\");\n",
    "        Olivia.SetAge(53);\n",
    "        \n",
    "        System.out.println(\"Name, age = \" + Olivia.GetName() + \", \" + Olivia.GetAge());\n",
    "\n",
    "        //Olivia.age = 25;  // Can't do this!!! age is private member\n",
    "\n",
    "    }\n",
    "\n",
    "}"
   ]
  },
  {
   "cell_type": "code",
   "execution_count": 3,
   "metadata": {},
   "outputs": [
    {
     "ename": "CompilationException",
     "evalue": "",
     "output_type": "error",
     "traceback": [
      "\u001b[1m\u001b[30m|   \u001b[1m\u001b[30m\u001b[0m\u001b[1m\u001b[30m\u001b[41mIncrementAge\u001b[0m\u001b[1m\u001b[30m\u001b[0m",
      "\u001b[1m\u001b[31mcannot find symbol\u001b[0m",
      "\u001b[1m\u001b[31m  symbol:   variable IncrementAge\u001b[0m",
      ""
     ]
    }
   ],
   "source": []
  },
  {
   "cell_type": "code",
   "execution_count": null,
   "metadata": {},
   "outputs": [],
   "source": []
  }
 ],
 "metadata": {
  "kernelspec": {
   "display_name": "Java",
   "language": "java",
   "name": "java"
  },
  "language_info": {
   "codemirror_mode": "java",
   "file_extension": ".jshell",
   "mimetype": "text/x-java-source",
   "name": "Java",
   "pygments_lexer": "java",
   "version": "13.0.1+9"
  }
 },
 "nbformat": 4,
 "nbformat_minor": 4
}
